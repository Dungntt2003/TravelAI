{
 "cells": [
  {
   "cell_type": "markdown",
   "metadata": {},
   "source": [
    "# Báo cáo Project\n",
    "Lớp TTNT-147729, Nhóm G20"
   ]
  },
  {
   "cell_type": "markdown",
   "metadata": {},
   "source": [
    "## 1. Thông tin chung"
   ]
  },
  {
   "cell_type": "markdown",
   "metadata": {},
   "source": [
    "### Thành viên\n",
    "- Nguyễn Thị Thùy Dung 20215009\n",
    "- Cao Thị Thu Hà 20215271\n",
    "- Đinh Thị Hồng Phúc 20215118\n",
    "- Bùi Phương Linh 20215077"
   ]
  },
  {
   "cell_type": "markdown",
   "metadata": {},
   "source": [
    "### Lịch thực hiện\n",
    "- W25: Đăng ký nhóm (Đã đăng ký trên Teams 18/2)\n",
    "- W26: Đăng ký project (3/3)\n",
    "- W31: Tiến độ giữa kỳ (7/4)\n",
    "- W38: Hoàn thành project (26/5)\n",
    "- W39-41: thuyết trình"
   ]
  },
  {
   "cell_type": "markdown",
   "metadata": {},
   "source": [
    "## 2. Đăng ký Project"
   ]
  },
  {
   "cell_type": "markdown",
   "metadata": {},
   "source": [
    "### Bài toán\n",
    "Tìm đường du lịch với mạng lưới cho trước\n",
    "\n",
    "Mô tả: Cho mạng lưới bài toán là các địa điểm tham quan du lịch nổi tiếng của đất nước Việt Nam. Bài toán đưa ra lộ trình tối ưu với khoảng cách là ngắn nhất. "
   ]
  },
  {
   "cell_type": "markdown",
   "metadata": {},
   "source": [
    "### Phương pháp\n",
    "- Thuật toán sử dụng: Thuật toán A*\n",
    "- Ngôn ngữ lập trình: Python"
   ]
  },
  {
   "cell_type": "markdown",
   "metadata": {},
   "source": [
    "### Phân công\n",
    "Tuần 27: \n",
    "- NTT Dung: Tìm hiểu chi tiết thuật toán, học các cú pháp cơ bản của Python\n",
    "- CTT Hà: Tìm hiểu chi tiết thuật toán, học các cú pháp cơ bản của Python\n",
    "- DTH Phúc: Tìm hiểu chi tiết thuật toán, học các cú pháp cơ bản của Python\n",
    "- BP Linh: Tìm hiểu chi tiết thuật toán, học các cú pháp cơ bản của Python\n",
    "\n",
    "Tuần 28:\n",
    "- NTT Dung: Tiếp học Python, tìm hiểu và xây dựng mạng lưới du lịch\n",
    "- CTT Hà: Tiếp học Python, tìm hiểu và xây dựng mạng lưới du lịch\n",
    "- DTH Phúc: Tiếp học Python, tìm hiểu và xây dựng mạng lưới du lịch\n",
    "- BP Linh: Tiếp học Python, tìm hiểu và xây dựng mạng lưới du lịch\n",
    "\n",
    "Tuần 29:\n",
    "- CTT Hà: Thiết kế giao diện\n",
    "- DTH Phúc & BP Linh: Tìm dữ liệu về các địa điểm du lịch nổi tiếng tại mỗi tỉnh\n",
    "- NTT Dung: Thử kết quả với dữ liệu tìm được bằng thuật toán A*\n",
    "\n",
    "Tuần 30:\n",
    "- CTT Hà: Thiết kế giao diện màn gợi ý điểm du lịch\n",
    "- DTH Phúc & BP Linh: Tiếp tục tìm dữ liệu về các địa điểm du lịch nổi tiếng tại mỗi tỉnh\n",
    "- NTT Dung: Tiếp tục thử kết quả với dữ liệu tìm được bằng thuật toán A*\n",
    "\n",
    "Tuần 31:\n",
    "- NTT Dung: tổng hợp code\n",
    "- CTT Hà: code hàm getPath(path)\n",
    "- DTH Phúc: code hàm printFamousPlace(city)\n",
    "- BP Linh: code hàm goBack(path, city)"
   ]
  },
  {
   "cell_type": "markdown",
   "metadata": {},
   "source": [
    "## 3.Báo cáo tiến độ giữa kỳ"
   ]
  },
  {
   "cell_type": "markdown",
   "metadata": {},
   "source": [
    "### Chi tiết thuật toán thực hiện\n",
    "\n",
    "* Thuật toán sử dụng: Thuật toán A*\n",
    "\n",
    "* Mô tả thuật toán A*: là thuật toán tìm đường đi giữa 2 điểm trên đồ thị sử dụng hàm đánh giá \n",
    "\n",
    "                                f(n) = g(n) + h(n)\n",
    "    \n",
    "    trong đó h(n) là một hàm heuristic (ước lượng) khoảng cách từ điểm hiện tại n đến điểm đích, g(n) là chi phí đường đi từ điểm bắt đầu đến điểm hiện tại n. Từ một nút bất kỳ, xét những hàng xóm của nút đó mà chưa xét đến, xác định giá trị f(n), từ điểm có giá trị f(n) nhỏ nhất để tiếp tục. Nếu tìm thấy đường đi, thuật toán trả về đường đi với chi phí tối thiểu; nếu không, thuật toán kết thúc mà không tìm thấy đường đi.\n",
    "\n",
    "* Áp dụng thuật toán trong project: Với g(n) là khoảng cách đường bộ đã đi qua, h(n) là khoảng cách đường chim bay giữa 2 điểm\n",
    "\n",
    "    - Xây dựng đồ thị với 30 thành phố du lịch nổi tiếng trên cả nước Việt Nam \n",
    "    - Tìm dữ liệu về khoảng cách chim bay giữa các thành phố bằng Google maps\n",
    "    - Tìm dữ liệu về khoảng cách đường bộ giữa các thành phố có nối đến nhau bằng Google maps\n",
    "    - Áp dụng thuật toán A* để tìm đường đi ngắn nhất giữa 2 thành phố bất kỳ được nhập vào từ người dùng, sau đó in đường đi ra màn hình. Tại mỗi thành phố trên đường đi sẽ hiện thị gợi ý những địa điểm nổi tiếng mà người dùng có thể ghé thăm khi đến thành phố đó, có thể quay lại thành phố trước đó mà người dùng đã đi qua."
   ]
  },
  {
   "cell_type": "markdown",
   "metadata": {},
   "source": [
    "### Kết quả thực hiện giữa kỳ\n",
    "\n",
    "* Xây dựng dữ liệu\n",
    "\n",
    "    Link figma thiết kế đồ thị du lịch và dữ liệu về khoảng cách đường chim bay, đường bộ giữa 30 tỉnh/thành phố:\n",
    "    https://www.figma.com/file/9eCIV4qOG7cyXfXa44TXFV/Graph-A*?type=whiteboard&node-id=0%3A1&t=gboDH20aFeDCVeKd-1\n",
    "\n",
    "* Demo project trên màn console\n",
    "\n",
    "    - Video demo project: https://drive.google.com/file/d/1dWlZmnYxHcSU5YoHd0tOqLHpVLkoi27Q/view?usp=sharing\n",
    "\n",
    "    - Link github chứa mã nguồn: https://github.com/Dungntt2003/TravelAI.git\n",
    "\n",
    "* Xây dựng giao diện\n",
    "\n",
    "    Link figma xây dựng giao diện:\n",
    "    https://www.figma.com/file/UDmk84nE77O6t94y1aQsj7/AI-Project?type=design&node-id=26%3A1619&mode=design&t=Eas9fSpmdG3jOsU9-1"
   ]
  },
  {
   "cell_type": "markdown",
   "metadata": {},
   "source": [
    "### Khó khăn cần tiếp tục giải quyết\n",
    "\n",
    "- Nhóm cần tiếp tục học vững cú pháp của Python\n",
    "- Nhóm tiếp tục project với việc xây dựng giao diện web"
   ]
  }
 ],
 "metadata": {
  "language_info": {
   "name": "python"
  }
 },
 "nbformat": 4,
 "nbformat_minor": 2
}
