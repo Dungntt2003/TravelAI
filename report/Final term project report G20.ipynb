{
 "cells": [
  {
   "cell_type": "markdown",
   "metadata": {},
   "source": [
    "# Báo cáo Project Cuối Kì\n",
    "Lớp TTNT-147729, Nhóm G20\n",
    "\n",
    "## 1. Giới thiệu\n",
    "\n",
    "### Bài toán cần giải quyết\n",
    "Bài toán đặt ra là tìm đường du lịch tối ưu với mạng lưới các địa điểm tham quan nổi tiếng ở Việt Nam. Mục tiêu là xác định lộ trình ngắn nhất giữa các địa điểm này để tối ưu hóa thời gian và chi phí di chuyển cho du khách.\n",
    "\n",
    "### Phân công công việc\n",
    "- Nguyễn Thị Thùy Dung 20215009: \n",
    "- Cao Thị Thu Hà 20215271: \n",
    "- Đinh Thị Hồng Phúc 20215118: \n",
    "- Bùi Phương Linh 20215077: \n",
    "\n",
    "## 2. Phương pháp và thực hiện\n",
    "\n",
    "### Phương pháp áp dụng\n",
    "Dự án sử dụng thuật toán A* để tìm kiếm đường đi ngắn nhất giữa các địa điểm du lịch. Thuật toán A* là một trong những thuật toán tìm kiếm thông minh nhất, nó sử dụng một hàm đánh giá để xác định đường đi tối ưu từ điểm bắt đầu đến điểm kết thúc. Hàm đánh giá này được tính như sau:\n",
    "\n",
    "$$ f(n) = g(n) + h(n) $$\n",
    "\n",
    "Trong đó:\n",
    "\n",
    "- $g(n)$: Chi phí đường đi từ điểm bắt đầu đến điểm hiện tại n.\n",
    "- $h(n)$: Hàm heuristic ước lượng chi phí từ điểm hiện tại n đến điểm đích.\n",
    "\n",
    "### Thuật toán TTNT sử dụng\n",
    "Thuật toán A* (A-star) được sử dụng trong dự án này. Đây là thuật toán tìm kiếm dựa trên việc sử dụng hai giá trị chính: chi phí đã đi (g) và chi phí ước lượng (h). Thuật toán này chọn đường đi với tổng chi phí nhỏ nhất từ điểm đầu đến điểm cuối.\n",
    "\n",
    "#### Mô tả chi tiết thuật toán A*:\n",
    "1. **Khởi tạo**:\n",
    "    - Đặt điểm bắt đầu vào danh sách mở (open list) và đánh dấu chi phí của nó là 0.\n",
    "2. **Lặp lại**:\n",
    "    - Lấy điểm có giá trị $f(n)$ nhỏ nhất từ danh sách mở.\n",
    "    - Nếu điểm này là điểm đích, kết thúc và trả về đường đi.\n",
    "    - Nếu không, chuyển điểm này sang danh sách đóng (closed list) và tiếp tục xem xét các điểm kề.\n",
    "    - Với mỗi điểm kề, nếu nó không có trong danh sách đóng, tính toán chi phí $f(n)$. Nếu điểm này chưa có trong danh sách mở hoặc có chi phí $f(n)$ nhỏ hơn giá trị đã lưu trước đó, cập nhật giá trị và đặt nó vào danh sách mở.\n",
    "\n",
    "### Dataset sử dụng để đánh giá phương pháp\n",
    "Dữ liệu được sử dụng bao gồm khoảng cách đường chim bay và khoảng cách đường bộ giữa các thành phố lớn ở Việt Nam. Dữ liệu này được thu thập từ Google Maps và các nguồn tin cậy khác.\n",
    "\n",
    "#### Cụ thể:\n",
    "- **Đồ thị các thành phố**: Xây dựng đồ thị với 30 thành phố du lịch nổi tiếng trên cả nước Việt Nam.\n",
    "- **Khoảng cách đường chim bay**: Sử dụng dữ liệu từ Google Maps để xác định khoảng cách ngắn nhất giữa hai điểm trên bản đồ.\n",
    "- **Khoảng cách đường bộ**: Sử dụng dữ liệu từ Google Maps để xác định khoảng cách thực tế khi di chuyển bằng đường bộ giữa các thành phố.\n"
   ]
  }
 ],
 "metadata": {
  "kernelspec": {
   "display_name": "Python 3",
   "language": "python",
   "name": "python3"
  },
  "language_info": {
   "codemirror_mode": {
    "name": "ipython",
    "version": 3
   },
   "file_extension": ".py",
   "mimetype": "text/x-python",
   "name": "python",
   "nbconvert_exporter": "python",
   "pygments_lexer": "ipython3",
   "version": "3.8.5"
  }
 },
 "nbformat": 4,
 "nbformat_minor": 4
}
